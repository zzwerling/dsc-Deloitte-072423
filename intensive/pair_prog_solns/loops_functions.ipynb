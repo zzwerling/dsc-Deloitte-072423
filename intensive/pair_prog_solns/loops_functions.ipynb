{
 "cells": [
  {
   "cell_type": "markdown",
   "metadata": {},
   "source": [
    "# Python Pre-Work Review - Loops and Functions\n",
    "\n",
    "Feel like you missed what pair programming is supposed to be all about? [Check out the writeup in the Recipe for Success document](https://docs.google.com/document/d/1J2VgF-40k8aO44epy-Rlu21jeV53k7VNJKXRR3y0P_M/edit#heading=h.hsv76gt73puu)"
   ]
  },
  {
   "cell_type": "markdown",
   "metadata": {},
   "source": [
    "\n",
    "## Scenario\n",
    "\n",
    "![cat pushing a shopping cart](images/cat_shopping_cart.jpg)\n",
    "\n",
    "Who has ever gotten to the cash register at Costco, or Whole Foods, or Target, then seen the total and asked, _\"How did I spend that much?!\"_ \n",
    "\n",
    "We have a grocery list of items and prices, but we do not have infinite money (unfortunately), so let's use Python help us manage our shopping and expenses."
   ]
  },
  {
   "cell_type": "markdown",
   "metadata": {},
   "source": [
    "## For Loops:\n",
    "\n",
    "Below, we have a list of items, and a separate list of costs. Let's build up to where we can write a loop to print each item, its cost, and the total of our grocery list."
   ]
  },
  {
   "cell_type": "code",
   "execution_count": 2,
   "metadata": {},
   "outputs": [],
   "source": [
    "# Run this cell without changes\n",
    "# Here is our grocery list\n",
    "items = ['cheese', 'whole milk', 'kefir', 'tofu four-pack', 'kale', 'oranges', \n",
    "         'ham', \"ben & jerry's\"]\n",
    "\n",
    "# Here is our cost list\n",
    "cost = [2.79, 3.42, 4.50, 12.00, 2.75, 3.64, 25.00, 5.29]"
   ]
  },
  {
   "cell_type": "markdown",
   "metadata": {},
   "source": [
    "Let's make that a little nicer looking. \n",
    "\n",
    "### 1) Create a `for` loop that prints each item in the list with \"I need to buy: \" + item:"
   ]
  },
  {
   "cell_type": "code",
   "execution_count": 7,
   "metadata": {},
   "outputs": [
    {
     "name": "stdout",
     "output_type": "stream",
     "text": [
      "I need to buy cheese.\n",
      "I need to buy whole milk.\n",
      "I need to buy kefir.\n",
      "I need to buy tofu four-pack.\n",
      "I need to buy kale.\n",
      "I need to buy oranges.\n",
      "I need to buy ham.\n",
      "I need to buy ben & jerry's.\n"
     ]
    }
   ],
   "source": [
    "# Write your for loop\n",
    "\n",
    "# the simplest way is to print the statement and concatenate the items using the dummy variable thats iterating\n",
    "# through the elements of the list.\n",
    "\n",
    "for item in items:\n",
    "    print(\"I need to buy \" + item + \".\")"
   ]
  },
  {
   "cell_type": "code",
   "execution_count": 8,
   "metadata": {},
   "outputs": [
    {
     "name": "stdout",
     "output_type": "stream",
     "text": [
      "I need to buy cheese.\n",
      "I need to buy whole milk.\n",
      "I need to buy kefir.\n",
      "I need to buy tofu four-pack.\n",
      "I need to buy kale.\n",
      "I need to buy oranges.\n",
      "I need to buy ham.\n",
      "I need to buy ben & jerry's.\n"
     ]
    }
   ],
   "source": [
    "# Alternatively, you could write the for-loop using string formating with an f-string.\n",
    "\n",
    "for item in items:\n",
    "    print(f\"I need to buy {item}.\")"
   ]
  },
  {
   "cell_type": "code",
   "execution_count": 9,
   "metadata": {},
   "outputs": [
    {
     "name": "stdout",
     "output_type": "stream",
     "text": [
      "I need to buy cheese.\n",
      "I need to buy whole milk.\n",
      "I need to buy kefir.\n",
      "I need to buy tofu four-pack.\n",
      "I need to buy kale.\n",
      "I need to buy oranges.\n",
      "I need to buy ham.\n",
      "I need to buy ben & jerry's.\n"
     ]
    }
   ],
   "source": [
    "# # Alternatively, you could write the for-loop using string formating with an f-string.\n",
    "\n",
    "for item in items:\n",
    "    print(\"I need to buy {}.\".format(item))"
   ]
  },
  {
   "cell_type": "markdown",
   "metadata": {},
   "source": [
    "What if we think it will be easier to work with a dictionary?\n",
    "\n",
    "### 2) Convert those two lists to a single dictionary:\n",
    "\n",
    "[Hint](https://appdividend.com/2022/03/10/python-zip-dictionary/)"
   ]
  },
  {
   "cell_type": "code",
   "execution_count": 10,
   "metadata": {},
   "outputs": [],
   "source": [
    "# Replace None with appropriate code to create your dictionary\n",
    "grocery_dict = dict(zip(items,cost))"
   ]
  },
  {
   "cell_type": "code",
   "execution_count": 11,
   "metadata": {
    "scrolled": true
   },
   "outputs": [
    {
     "data": {
      "text/plain": [
       "{'cheese': 2.79,\n",
       " 'whole milk': 3.42,\n",
       " 'kefir': 4.5,\n",
       " 'tofu four-pack': 12.0,\n",
       " 'kale': 2.75,\n",
       " 'oranges': 3.64,\n",
       " 'ham': 25.0,\n",
       " \"ben & jerry's\": 5.29}"
      ]
     },
     "execution_count": 11,
     "metadata": {},
     "output_type": "execute_result"
    }
   ],
   "source": [
    "# Check your work\n",
    "grocery_dict"
   ]
  },
  {
   "cell_type": "markdown",
   "metadata": {},
   "source": [
    "### 3) Sum the total grocery bill for these items:\n",
    "\n",
    "(use the dictionary's `values`, not the cost list from before!)"
   ]
  },
  {
   "cell_type": "code",
   "execution_count": 50,
   "metadata": {
    "scrolled": true
   },
   "outputs": [
    {
     "name": "stdout",
     "output_type": "stream",
     "text": [
      "dict_values([2.79, 3.42, 4.5, 12.0, 2.75, 3.64, 25.0, 5.29])\n",
      "\n",
      "\n",
      " 59.39\n"
     ]
    }
   ],
   "source": [
    "# Calculate your sum\n",
    "\n",
    "grocery_list_total = sum(grocery_dict.values())\n",
    "print(grocery_dict.values())\n",
    "print('\\n\\n',grocery_list_total)"
   ]
  },
  {
   "cell_type": "markdown",
   "metadata": {},
   "source": [
    "Gah! What if we're trying to be frugal?\n",
    "\n",
    "One way to do that would be to not buy any item that's more expensive than $10.\n",
    "\n",
    "### 4) Edit your loop so that it only calculates the sum for items that are less than $10:\n",
    "\n",
    "Hint: `.items()` will create two variables from a dictionary, one with the keys and one with the values. You can use `.items()`, conditionals, and a for loop to only add items that are cheaper then $10 to our total!"
   ]
  },
  {
   "cell_type": "code",
   "execution_count": 24,
   "metadata": {},
   "outputs": [
    {
     "name": "stdout",
     "output_type": "stream",
     "text": [
      "cheese 2.79\n",
      "whole milk 3.42\n",
      "kefir 4.5\n",
      "tofu four-pack 12.0\n",
      "kale 2.75\n",
      "oranges 3.64\n",
      "ham 25.0\n",
      "ben & jerry's 5.29\n"
     ]
    }
   ],
   "source": [
    "for item,cost in grocery_dict.items():\n",
    "    print(item, cost)"
   ]
  },
  {
   "cell_type": "code",
   "execution_count": 35,
   "metadata": {
    "scrolled": true
   },
   "outputs": [
    {
     "name": "stdout",
     "output_type": "stream",
     "text": [
      "{'cheese': 2.79, 'whole milk': 3.42, 'kefir': 4.5, 'kale': 2.75, 'oranges': 3.64, \"ben & jerry's\": 5.29}\n",
      "\n",
      "\n",
      "the bill total, if we're being frugal is $22.39.\n"
     ]
    }
   ],
   "source": [
    "# Code here to only add items to our total if they're <$10\n",
    "items_under_ten = {}\n",
    "for item,cost in grocery_dict.items():\n",
    "    if cost < 10.0:\n",
    "        items_under_ten[item] = cost\n",
    "\n"
   ]
  },
  {
   "cell_type": "code",
   "execution_count": 36,
   "metadata": {},
   "outputs": [
    {
     "name": "stdout",
     "output_type": "stream",
     "text": [
      "{'cheese': 2.79, 'whole milk': 3.42, 'kefir': 4.5, 'kale': 2.75, 'oranges': 3.64, \"ben & jerry's\": 5.29}\n"
     ]
    }
   ],
   "source": [
    "# Check your work\n",
    "print(items_under_ten)"
   ]
  },
  {
   "cell_type": "code",
   "execution_count": 38,
   "metadata": {},
   "outputs": [
    {
     "name": "stdout",
     "output_type": "stream",
     "text": [
      "the bill total, if we're being frugal is $22.39.\n"
     ]
    }
   ],
   "source": [
    "print(\"the bill total, if we're being frugal is \" + \"$\" + str(sum(items_under_ten.values()))+ \".\")"
   ]
  },
  {
   "cell_type": "markdown",
   "metadata": {},
   "source": [
    "## Functions:\n",
    "\n",
    "Just a note - it's always best practice to follow [PEP-8](https://www.python.org/dev/peps/pep-0008/) standards when writing Python code. The [standard for function names](https://www.python.org/dev/peps/pep-0008/#function-and-variable-names) is that they are lowercase, separated by underscores - same as variable names."
   ]
  },
  {
   "cell_type": "markdown",
   "metadata": {},
   "source": [
    "### Quiz question!  `print` vs `return` ?\n",
    "\n",
    "Can you describe the difference between `print` and `return` as a function output? \n",
    "\n",
    "- `print()` is a python built-in function that only prints a result to the screen but does not save the result to a variable. return is also a built-in python function that is different from `print()` in that it can return a result, but that result is saved to a variable so that you can continue using it in another operation.\n"
   ]
  },
  {
   "cell_type": "markdown",
   "metadata": {},
   "source": [
    "Back to our shopping list:\n",
    "\n",
    "### 5) Adapt your shopping list's for loop into a function that takes in a dictionary, where the key is the name of the item and the value is its cost, and only adds items if they are less than $10:\n",
    "\n",
    "It should return the total cost without items that cost more than $10."
   ]
  },
  {
   "cell_type": "code",
   "execution_count": null,
   "metadata": {},
   "outputs": [],
   "source": [
    "# You may want to paste your previous for loop here\n"
   ]
  },
  {
   "cell_type": "code",
   "execution_count": 39,
   "metadata": {},
   "outputs": [],
   "source": [
    "# Replace pass with the appropriate code\n",
    "def calc_frugal_total(dictionary):\n",
    "    '''\n",
    "    Returns a frugal grocery list sum, that only includes items that cost less\n",
    "    than $10\n",
    "    \n",
    "    Input: dictionary (expects key is item name, value is item cost)\n",
    "    Output: sum (float)\n",
    "    '''\n",
    "    items_under_ten = {}\n",
    "    for item,cost in dictionary.items():\n",
    "        if cost < 10.0:\n",
    "            items_under_ten[item] = cost\n",
    "    \n",
    "    under_ten_sum = sum(items_under_ten.values())\n",
    "    \n",
    "    return under_ten_sum"
   ]
  },
  {
   "cell_type": "code",
   "execution_count": 41,
   "metadata": {},
   "outputs": [
    {
     "data": {
      "text/plain": [
       "22.39"
      ]
     },
     "execution_count": 41,
     "metadata": {},
     "output_type": "execute_result"
    }
   ],
   "source": [
    "# Run this cell without changes to check your work\n",
    "calc_frugal_total(grocery_dict)"
   ]
  },
  {
   "cell_type": "markdown",
   "metadata": {},
   "source": [
    "## Nested Dictionaries\n",
    "\n",
    "Here is a more robust shopping list of nested dictionaries:"
   ]
  },
  {
   "cell_type": "code",
   "execution_count": 42,
   "metadata": {},
   "outputs": [],
   "source": [
    "# Run this cell without changes\n",
    "shopping_dict = {'Groceries': {\"ben & jerry's\": 5.29, 'cheese': 2.79, \n",
    "                               'ham': 25.0, 'kale': 2.75, 'kefir': 4.5, \n",
    "                               'oranges': 3.64, 'tofu four-pack': 12.0, \n",
    "                               'whole milk': 3.42},\n",
    "                 'House Supplies': {'toilet paper pack': 16.50, \n",
    "                                    'clorox spray': 6.43, 'kleenex': 2.50, },\n",
    "                 'Pet Supplies': {'fancy grain-free kibble': 65.25, \n",
    "                                  'squeaky toy': 4.50, 'treats': 8.45}}"
   ]
  },
  {
   "cell_type": "markdown",
   "metadata": {},
   "source": [
    "Nested dictionaries call for nested for loops! \n",
    "\n",
    "### 6) Write a set of nested for loops that create a total grocery list of the items without the categories (for example: ham, clorox spray, squeaky toy, etc.):\n",
    "\n",
    "This would let us have just one list to take to the store and find what we need!"
   ]
  },
  {
   "cell_type": "code",
   "execution_count": 45,
   "metadata": {},
   "outputs": [
    {
     "data": {
      "text/plain": [
       "[{\"ben & jerry's\": 5.29,\n",
       "  'cheese': 2.79,\n",
       "  'ham': 25.0,\n",
       "  'kale': 2.75,\n",
       "  'kefir': 4.5,\n",
       "  'oranges': 3.64,\n",
       "  'tofu four-pack': 12.0,\n",
       "  'whole milk': 3.42},\n",
       " {'toilet paper pack': 16.5, 'clorox spray': 6.43, 'kleenex': 2.5},\n",
       " {'fancy grain-free kibble': 65.25, 'squeaky toy': 4.5, 'treats': 8.45}]"
      ]
     },
     "execution_count": 45,
     "metadata": {},
     "output_type": "execute_result"
    }
   ],
   "source": [
    "# Code to write your nested loops\n",
    "grocery_list = []\n",
    "for item_category, item in shopping_dict.items():\n",
    "    grocery_list.append(item)\n",
    "grocery_list"
   ]
  },
  {
   "cell_type": "markdown",
   "metadata": {},
   "source": [
    "as we can see here, we havent quite gone all the way down into the nested structure... we want only the keys in this level i.e the item names...\n",
    "\n",
    "our dictionary structure is like this:\n",
    "\n",
    "dictionary level 1: keys = category name ; values = dictionaries of item name and item price pairs.\n",
    "\n",
    "dictionary level 2: keys = item name ; values = item cost"
   ]
  },
  {
   "cell_type": "code",
   "execution_count": 51,
   "metadata": {},
   "outputs": [],
   "source": [
    "# Code to write your nested loops\n",
    "grocery_list = []\n",
    "for item_category, item in shopping_dict.items():  # start with / iterate over the first level of the dictionary\n",
    "    for item_name in item.keys():                  # item is a subordinate dictionary, iterate through its keys to collect names \n",
    "        grocery_list.append(item_name)             # append those names to a list.\n"
   ]
  },
  {
   "cell_type": "code",
   "execution_count": 52,
   "metadata": {},
   "outputs": [
    {
     "data": {
      "text/plain": [
       "[\"ben & jerry's\",\n",
       " 'cheese',\n",
       " 'ham',\n",
       " 'kale',\n",
       " 'kefir',\n",
       " 'oranges',\n",
       " 'tofu four-pack',\n",
       " 'whole milk',\n",
       " 'toilet paper pack',\n",
       " 'clorox spray',\n",
       " 'kleenex',\n",
       " 'fancy grain-free kibble',\n",
       " 'squeaky toy',\n",
       " 'treats']"
      ]
     },
     "execution_count": 52,
     "metadata": {},
     "output_type": "execute_result"
    }
   ],
   "source": [
    "# Check your work\n",
    "grocery_list  # looks good!"
   ]
  },
  {
   "cell_type": "markdown",
   "metadata": {},
   "source": [
    "### 7) Turn your nested loops into a function that, when given nested dictionaries, returns a list of each item as our grocery list to take with us to the store. It should also print our expected total, so we know how much we expect to spend.\n",
    "\n",
    "Use [this link](https://stackoverflow.com/questions/45310254/fixed-digits-after-decimal-with-f-strings) for help in formatting the total to two decimal places using an f-string - not required, but it'll print out nicer!"
   ]
  },
  {
   "cell_type": "code",
   "execution_count": 53,
   "metadata": {},
   "outputs": [],
   "source": [
    "# Replace pass with appropriate code\n",
    "def write_grocery_list(nested_dict):                 # when defining a function, the arguments are stand-in handles or dummy variables  \n",
    "    grocery_list = []                                # for what will be given to it later. -> not the actual variable name.\n",
    "    for item_category, item in nested_dict.items(): \n",
    "        for item_name in item.keys():                # i just copy pasta'd the code from above and swithced the variable name\n",
    "            grocery_list.append(item_name)           # to the dummy variable name used in the function definition. \n",
    "    return grocery_list"
   ]
  },
  {
   "cell_type": "code",
   "execution_count": 56,
   "metadata": {},
   "outputs": [
    {
     "data": {
      "text/plain": [
       "[\"ben & jerry's\",\n",
       " 'cheese',\n",
       " 'ham',\n",
       " 'kale',\n",
       " 'kefir',\n",
       " 'oranges',\n",
       " 'tofu four-pack',\n",
       " 'whole milk',\n",
       " 'toilet paper pack',\n",
       " 'clorox spray',\n",
       " 'kleenex',\n",
       " 'fancy grain-free kibble',\n",
       " 'squeaky toy',\n",
       " 'treats']"
      ]
     },
     "execution_count": 56,
     "metadata": {},
     "output_type": "execute_result"
    }
   ],
   "source": [
    "# Run this cell without changes to check your work\n",
    "\n",
    "write_grocery_list(shopping_dict)  # looks good!"
   ]
  },
  {
   "cell_type": "markdown",
   "metadata": {},
   "source": [
    "-----\n",
    "\n",
    "## Level Up:\n",
    "\n",
    "Adapt your grocery function to do the following:\n",
    "\n",
    "- flag expensive items that cost more than $20, and do not add them to your list\n",
    "\n",
    "- block items that will push the total cost above $50\n",
    "\n",
    "- print out the average cost per item on your list\n",
    "\n",
    "It should still take in a nested dictionary, and return your grocery list.\n",
    "\n",
    "**Extra bonus points:** add a [docstring](https://www.python.org/dev/peps/pep-0257/)! \n",
    "\n",
    "You can see an example of a docstring up above, where I used triple quotes (''') to write a multi-line string directly under where I defined my `calc_frugal_total` function. That multi-line string is a docstring, and you should get in the habit of using docstrings to describe expected behavior, as well as expected inputs and outputs, for your functions. Best part - after you've defined a function, you can call that docstring by running `help()` around your function, or by clicking into the parentheses after your function and clicking SHIFT+TAB in a juptyer notebook. Test it out!"
   ]
  },
  {
   "cell_type": "code",
   "execution_count": 92,
   "metadata": {},
   "outputs": [],
   "source": [
    "# Code your leveled-up function here\n",
    "def write_conditional_glist(nested_dict):\n",
    "    '''pretend there is a better docstring here'''\n",
    "    \n",
    "    \n",
    "    grocery_list = []                                            #create an empty list to put item names in\n",
    "    total = 0                                                    #create a variable set to 0 that we can use to count as we loop\n",
    "    \n",
    "    \n",
    "    for item_category, item_list in nested_dict.items():         # iterate through first level of dict\n",
    "        for item_name,item_cost in item_list.items():           # iterate through item-list, itself a dictionary where the info we want i                                                         \n",
    "            \n",
    "            if item_cost < 20.0:                                  \n",
    "                grocery_list.append(item_name)                   # collect item name in the empty list based on its associated value or price \n",
    "                total += item_cost                               # after 1st condition has been placed on it, take the item cost and add it to the counter.\n",
    "                if total > 50.00:\n",
    "                    break\n",
    "    print(f\"The budgeted grocery list contains {grocery_list} \\n\\n\\n the total cost of these items is ${total}\")"
   ]
  },
  {
   "cell_type": "code",
   "execution_count": 93,
   "metadata": {},
   "outputs": [
    {
     "name": "stdout",
     "output_type": "stream",
     "text": [
      "The budgeted grocery list contains [\"ben & jerry's\", 'cheese', 'kale', 'kefir', 'oranges', 'tofu four-pack', 'whole milk', 'toilet paper pack', 'squeaky toy'] \n",
      "\n",
      "\n",
      " the total cost of these items is $55.39\n"
     ]
    }
   ],
   "source": [
    "# Check your work\n",
    "write_conditional_glist(shopping_dict)"
   ]
  },
  {
   "cell_type": "markdown",
   "metadata": {},
   "source": [
    "## Notice that we've gone overbudget by a bit. How might we fix this? One straightforward approach is to simply subtract the last item or couple of items so that we land beneath the total of $50.00 "
   ]
  },
  {
   "cell_type": "code",
   "execution_count": 94,
   "metadata": {},
   "outputs": [],
   "source": [
    "# Code your leveled-up function here\n",
    "def write_conditional_glist(nested_dict):\n",
    "    '''pretend there is a better docstring here'''\n",
    "    \n",
    "    \n",
    "    grocery_list = []                                            #create an empty list to put item names in\n",
    "    total = 0                                                    #create a variable set to 0 that we can use to count as we loop\n",
    "    \n",
    "    \n",
    "    for item_category, item_list in nested_dict.items():         # iterate through first level of dict\n",
    "        for item_name,item_cost in item_list.items():           # iterate through item-list, itself a dictionary where the info we want i                                                         \n",
    "            \n",
    "            if item_cost < 20.0:                                  \n",
    "                grocery_list.append(item_name)                   # collect item name in the empty list based on its associated value or price \n",
    "                total += item_cost                               # after 1st condition has been placed on it, take the item cost and add it to the counter.\n",
    "                if total > 50.00:\n",
    "                    total -= item_cost                           # here we've added some code to remove the last item price that pushed us over\n",
    "                    grocery_list.pop()                           # and here I'll remove the name of the last item that brought the total to over 50.\n",
    "    print(f\"The budgeted grocery list contains {grocery_list} \\n\\n\\n the total cost of these items is ${total}\")"
   ]
  },
  {
   "cell_type": "code",
   "execution_count": 95,
   "metadata": {},
   "outputs": [
    {
     "name": "stdout",
     "output_type": "stream",
     "text": [
      "The budgeted grocery list contains [\"ben & jerry's\", 'cheese', 'kale', 'kefir', 'oranges', 'tofu four-pack', 'whole milk', 'clorox spray', 'kleenex', 'squeaky toy'] \n",
      "\n",
      "\n",
      " the total cost of these items is $47.81999999999999\n"
     ]
    }
   ],
   "source": [
    "write_conditional_glist(shopping_dict) "
   ]
  },
  {
   "cell_type": "markdown",
   "metadata": {},
   "source": [
    "# looks good! ✨ 👁 👄 👁 ✨"
   ]
  }
 ],
 "metadata": {
  "kernelspec": {
   "display_name": "Python 3",
   "language": "python",
   "name": "python3"
  },
  "language_info": {
   "codemirror_mode": {
    "name": "ipython",
    "version": 3
   },
   "file_extension": ".py",
   "mimetype": "text/x-python",
   "name": "python",
   "nbconvert_exporter": "python",
   "pygments_lexer": "ipython3",
   "version": "3.8.8"
  }
 },
 "nbformat": 4,
 "nbformat_minor": 4
}
