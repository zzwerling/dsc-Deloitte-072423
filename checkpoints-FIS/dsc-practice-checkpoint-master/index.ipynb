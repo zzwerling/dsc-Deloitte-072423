{
   "cells": [
    {
     "cell_type": "markdown",
     "metadata": {
      "nbgrader": {
       "grade": false,
       "grade_id": "58c5d138de0cf674aaa9b0286bb12bca",
       "locked": true,
       "schema_version": 3,
       "solution": false,
       "task": false
      }
     },
     "source": [
      "# Data Science Practice Checkpoint\n",
      "\n",
      "This assignment is designed to test your understanding of the checkpoint process. It covers:\n",
      "\n",
      " - Anwering a code question\n",
      " \n",
      "**Note on checkpoints generally**:\n",
      " \n",
      "The purpose of assessments is to assess a student's comprehension and application of our Data Science program's key content.\n",
      "\n",
      "Checkpoints are formative, in-depth assessments\n",
      "\n",
      "Code challenges are summative, end-to-end assessments"
     ]
    },
    {
     "cell_type": "markdown",
     "metadata": {
      "nbgrader": {
       "grade": false,
       "grade_id": "dbc759291e61caa3abff81965d58106d",
       "locked": true,
       "schema_version": 3,
       "solution": false,
       "task": false
      }
     },
     "source": [
      "## Imports\n",
      "\n",
      "You will usually have to import different packages into a checkpoint or other material we give you\n",
      "\n",
      "Don't worry if you don't have all the mechanics about what that means at this point\n",
      "\n",
      "Just run the cell below, which is an example that imports the `string` module\n",
      "\n",
      "(You do not need to use the `string` module to answer these questions, although technically you can use it if you want to)"
     ]
    },
    {
     "cell_type": "code",
     "execution_count": 1,
     "metadata": {
      "nbgrader": {
       "grade": false,
       "grade_id": "cell-43f5d1ddfd9550ba",
       "locked": true,
       "schema_version": 3,
       "solution": false,
       "task": false
      }
     },
     "outputs": [],
     "source": [
      "# Run this cell without changes\n",
      "\n",
      "import string"
     ]
    },
    {
     "cell_type": "markdown",
     "metadata": {
      "nbgrader": {
       "grade": false,
       "grade_id": "cell-8d7ddfd00efc0027",
       "locked": true,
       "schema_version": 3,
       "solution": false,
       "task": false
      }
     },
     "source": [
      "## Cells with `# CodeGrade step` comments\n",
      "\n",
      "**CodeGrade** is our grading tool for checkpoints. When it assesses Jupyter notebooks, it looks for cells that have special comments that include the name `CodeGrade` as well as a \"step\" number. Look below: The cell with the `greet_user` function has a comment that reads `# CodeGrade step1.1`. CodeGrade will be looking for your answers in these cells and so it is critical that you DO NOT DELETE THESE COMMENTS! Delete any **None**'s but do not delete the CodeGrade comments."
     ]
    },
    {
     "cell_type": "markdown",
     "metadata": {
      "nbgrader": {
       "grade": false,
       "grade_id": "89300e37881c21a479089ce596b6b69f",
       "locked": true,
       "schema_version": 3,
       "solution": false,
       "task": false
      }
     },
     "source": [
      "## Question 1\n",
      "\n",
      "### Question Content\n",
      "\n",
      "In the cell below, modify the `greet_user` function to do the following:\n",
      "\n",
      " - take a name as an argument\n",
      " - return the statement \"Greetings! I am `name` and I am pleased to make your acquaintance!\"\n",
      "\n",
      "Then assign the name `\"Gene Hackman\"` to the variable `name`.\n",
      "\n",
      "Run all cells to confirm the result.\n",
      "\n",
      "### Additional Note\n",
      "\n",
      "You can generally ignore the language of \"your code here\". Instead pay attention to where the `None`s are that need to be replaced. "
     ]
    },
    {
     "cell_type": "code",
     "execution_count": 2,
     "metadata": {},
     "outputs": [],
     "source": [
      "# CodeGrade step1.1\n",
      "# Replace None with appropriate code\n",
      "\n",
      "def greet_user(name):\n",
      "    \"\"\"\n",
      "    this function takes a string name as an argument \n",
      "    and returns a greeting including that name \n",
      "    \"\"\"\n",
      "    statement = \"Greetings! I am \" + name + \" and I am pleased to make your acquaintance!\"\n",
      "    \n",
      "    return statement\n",
      "    "
     ]
    },
    {
     "cell_type": "code",
     "execution_count": 3,
     "metadata": {
      "nbgrader": {
       "grade": false,
       "grade_id": "cell-dee65e5abdf05a93",
       "locked": false,
       "schema_version": 3,
       "solution": true,
       "task": false
      }
     },
     "outputs": [],
     "source": [
      "# CodeGrade step1.2\n",
      "# Replace None with appropriate code\n",
      "name = \"Gene Hackman\""
     ]
    },
    {
     "cell_type": "code",
     "execution_count": 4,
     "metadata": {
      "nbgrader": {
       "grade": false,
       "grade_id": "cell-17700144d3c2e805",
       "locked": true,
       "schema_version": 3,
       "solution": false,
       "task": false
      }
     },
     "outputs": [
      {
       "name": "stdout",
       "output_type": "stream",
       "text": [
  <<<<<<< HEAD
        "Greetings! I am Gene Hackman and I am pleased to make your acquaintance!\n"
  =======
        "Greetings! I am Gene Hackman and I am pleased to meet your acquaintance\n"
  >>>>>>> upstream/main
       ]
      }
     ],
     "source": [
      "print(greet_user(name))"
     ]
    },
    {
     "cell_type": "markdown",
     "metadata": {},
     "source": [
      "## Test Cells"
     ]
    },
    {
     "cell_type": "markdown",
     "metadata": {},
     "source": [
      "Sometimes you will see cells with **assert** statements. These test cells are designed to help you toward the right answers to questions. Run these cells to make sure that you are passing the tests, but know that this doesn't fully guarantee that your answer is correct. CodeGrade will also conduct **hidden** tests that you won't be able to access.\n",
      "\n",
      "You will see an error message explaining what is wrong if your answer does not pass the visible tests."
     ]
    },
    {
     "cell_type": "code",
  <<<<<<< HEAD
     "execution_count": 6,
  =======
     "execution_count": 5,
  >>>>>>> upstream/main
     "metadata": {},
     "outputs": [],
     "source": [
      "# greet_user should return a string\n",
      "assert type(greet_user(\"Max\")) == str\n",
      "# name should be a string\n",
      "assert type(name) == str"
     ]
    },
    {
  <<<<<<< HEAD
     "cell_type": "markdown",
     "metadata": {},
     "source": [
      "#Question 2\n",
      "\n"
     ]
    },
    {
  =======
  >>>>>>> upstream/main
     "cell_type": "code",
     "execution_count": null,
     "metadata": {},
     "outputs": [],
     "source": []
    }
   ],
   "metadata": {
    "celltoolbar": "Create Assignment",
    "kernelspec": {
  <<<<<<< HEAD
     "display_name": "Python 3 (ipykernel)",
  =======
     "display_name": "Python 3",
  >>>>>>> upstream/main
     "language": "python",
     "name": "python3"
    },
    "language_info": {
     "codemirror_mode": {
      "name": "ipython",
      "version": 3
     },
     "file_extension": ".py",
     "mimetype": "text/x-python",
     "name": "python",
     "nbconvert_exporter": "python",
     "pygments_lexer": "ipython3",
  <<<<<<< HEAD
     "version": "3.11.3"
  =======
     "version": "3.8.8"
  >>>>>>> upstream/main
    }
   },
   "nbformat": 4,
   "nbformat_minor": 4
  }